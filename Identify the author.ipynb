{
 "cells": [
  {
   "cell_type": "markdown",
   "metadata": {},
   "source": [
    "**Import libraries**"
   ]
  },
  {
   "cell_type": "code",
   "execution_count": 1,
   "metadata": {
    "scrolled": true
   },
   "outputs": [],
   "source": [
    "import re\n",
    "import nltk\n",
    "import pandas as pd\n",
    "import numpy as np\n",
    "import seaborn as sns\n",
    "import matplotlib.pyplot as plt\n",
    "import warnings\n",
    "warnings.filterwarnings('ignore')"
   ]
  },
  {
   "cell_type": "code",
   "execution_count": 2,
   "metadata": {},
   "outputs": [],
   "source": [
    "from nltk.corpus import stopwords\n",
    "nltk_stopwords = stopwords.words('english')"
   ]
  },
  {
   "cell_type": "markdown",
   "metadata": {},
   "source": [
    "**Import the datasets**"
   ]
  },
  {
   "cell_type": "code",
   "execution_count": 3,
   "metadata": {
    "scrolled": true
   },
   "outputs": [],
   "source": [
    "file1 = open('author_train.csv', 'rt', encoding='utf-8')\n",
    "train = file1.read()\n",
    "file1.close()"
   ]
  },
  {
   "cell_type": "markdown",
   "metadata": {},
   "source": [
    "**Using regular expression, extract text and author from the dataset**"
   ]
  },
  {
   "cell_type": "code",
   "execution_count": 4,
   "metadata": {
    "scrolled": true
   },
   "outputs": [
    {
     "data": {
      "text/plain": [
       "',,\\n'"
      ]
     },
     "execution_count": 4,
     "metadata": {},
     "output_type": "execute_result"
    }
   ],
   "source": [
    "train_text = re.split(r'\",\\d', train)\n",
    "train_text.pop()"
   ]
  },
  {
   "cell_type": "code",
   "execution_count": 5,
   "metadata": {
    "scrolled": true
   },
   "outputs": [
    {
     "data": {
      "text/plain": [
       "''"
      ]
     },
     "execution_count": 5,
     "metadata": {},
     "output_type": "execute_result"
    }
   ],
   "source": [
    "train_author = re.findall(r'\",\\d', train)\n",
    "train_author = ''.join(train_author)\n",
    "train_author = re.sub('\"','',train_author)\n",
    "train_author = re.split(',', train_author)\n",
    "train_author.pop(0)"
   ]
  },
  {
   "cell_type": "markdown",
   "metadata": {},
   "source": [
    "**After extracting text and author from the datasets into List, print the count of text and author which should match with problem description**"
   ]
  },
  {
   "cell_type": "code",
   "execution_count": 6,
   "metadata": {
    "scrolled": true
   },
   "outputs": [
    {
     "name": "stdout",
     "output_type": "stream",
     "text": [
      "No. of sample texts in the training set  :  18977\n",
      "No. of target values in the training set :  18977\n"
     ]
    }
   ],
   "source": [
    "print('No. of sample texts in the training set  : ', len(train_text))\n",
    "print('No. of target values in the training set : ', len(train_author))"
   ]
  },
  {
   "cell_type": "markdown",
   "metadata": {},
   "source": [
    "**Create a dataframe of text and author** "
   ]
  },
  {
   "cell_type": "code",
   "execution_count": 7,
   "metadata": {
    "scrolled": true
   },
   "outputs": [],
   "source": [
    "df = pd.DataFrame({'text': train_text})"
   ]
  },
  {
   "cell_type": "code",
   "execution_count": 8,
   "metadata": {
    "scrolled": true
   },
   "outputs": [],
   "source": [
    "df['author'] = pd.DataFrame(train_author)"
   ]
  },
  {
   "cell_type": "code",
   "execution_count": 9,
   "metadata": {
    "scrolled": true
   },
   "outputs": [
    {
     "data": {
      "text/html": [
       "<div>\n",
       "<style scoped>\n",
       "    .dataframe tbody tr th:only-of-type {\n",
       "        vertical-align: middle;\n",
       "    }\n",
       "\n",
       "    .dataframe tbody tr th {\n",
       "        vertical-align: top;\n",
       "    }\n",
       "\n",
       "    .dataframe thead th {\n",
       "        text-align: right;\n",
       "    }\n",
       "</style>\n",
       "<table border=\"1\" class=\"dataframe\">\n",
       "  <thead>\n",
       "    <tr style=\"text-align: right;\">\n",
       "      <th></th>\n",
       "      <th>text</th>\n",
       "      <th>author</th>\n",
       "    </tr>\n",
       "  </thead>\n",
       "  <tbody>\n",
       "    <tr>\n",
       "      <th>0</th>\n",
       "      <td>\"They have been pronounced by an\\n\\n\\n\\n\\nexpe...</td>\n",
       "      <td>2</td>\n",
       "    </tr>\n",
       "    <tr>\n",
       "      <th>1</th>\n",
       "      <td>,,\\n\"His partner sailed along in\\n\\n\\n\\n\\nfron...</td>\n",
       "      <td>0</td>\n",
       "    </tr>\n",
       "    <tr>\n",
       "      <th>2</th>\n",
       "      <td>,,\\n\"The cushions were a good deal higher\\n\\n\\...</td>\n",
       "      <td>5</td>\n",
       "    </tr>\n",
       "    <tr>\n",
       "      <th>3</th>\n",
       "      <td>,,\\n\"O God, grant that in his presence I may\\n...</td>\n",
       "      <td>4</td>\n",
       "    </tr>\n",
       "    <tr>\n",
       "      <th>4</th>\n",
       "      <td>,,\\n\"The grass\\n\\n\\n\\n\\nglowed with bright and...</td>\n",
       "      <td>0</td>\n",
       "    </tr>\n",
       "  </tbody>\n",
       "</table>\n",
       "</div>"
      ],
      "text/plain": [
       "                                                text author\n",
       "0  \"They have been pronounced by an\\n\\n\\n\\n\\nexpe...      2\n",
       "1  ,,\\n\"His partner sailed along in\\n\\n\\n\\n\\nfron...      0\n",
       "2  ,,\\n\"The cushions were a good deal higher\\n\\n\\...      5\n",
       "3  ,,\\n\"O God, grant that in his presence I may\\n...      4\n",
       "4  ,,\\n\"The grass\\n\\n\\n\\n\\nglowed with bright and...      0"
      ]
     },
     "execution_count": 9,
     "metadata": {},
     "output_type": "execute_result"
    }
   ],
   "source": [
    "df.head()"
   ]
  },
  {
   "cell_type": "code",
   "execution_count": 10,
   "metadata": {
    "scrolled": true
   },
   "outputs": [
    {
     "data": {
      "text/plain": [
       "0    3859\n",
       "5    3517\n",
       "4    3184\n",
       "2    2621\n",
       "3    1314\n",
       "9    1142\n",
       "7    1054\n",
       "8     910\n",
       "6     755\n",
       "1     621\n",
       "Name: author, dtype: int64"
      ]
     },
     "execution_count": 10,
     "metadata": {},
     "output_type": "execute_result"
    }
   ],
   "source": [
    "df['author'].value_counts()"
   ]
  },
  {
   "cell_type": "markdown",
   "metadata": {},
   "source": [
    "**Visualize the count of authors in the training set. This shows that training set is pretty imbalanced**"
   ]
  },
  {
   "cell_type": "code",
   "execution_count": 11,
   "metadata": {
    "scrolled": true
   },
   "outputs": [
    {
     "data": {
      "text/plain": [
       "<matplotlib.axes._subplots.AxesSubplot at 0x212cd0c6a90>"
      ]
     },
     "execution_count": 11,
     "metadata": {},
     "output_type": "execute_result"
    },
    {
     "data": {
      "image/png": "[encoded data removed]",
      "text/plain": [
       "<Figure size 720x288 with 1 Axes>"
      ]
     },
     "metadata": {},
     "output_type": "display_data"
    }
   ],
   "source": [
    "fig = plt.figure(figsize=(10,4))\n",
    "sns.countplot(x='author',data=df)"
   ]
  },
  {
   "cell_type": "markdown",
   "metadata": {},
   "source": [
    "**Now, load the test dataset, display top 5 row & no. of sample texts in test set which should match with problem description**"
   ]
  },
  {
   "cell_type": "code",
   "execution_count": 12,
   "metadata": {
    "scrolled": true
   },
   "outputs": [],
   "source": [
    "df_test = pd.read_csv('author_test.csv')"
   ]
  },
  {
   "cell_type": "code",
   "execution_count": 13,
   "metadata": {
    "scrolled": true
   },
   "outputs": [
    {
     "data": {
      "text/html": [
       "<div>\n",
       "<style scoped>\n",
       "    .dataframe tbody tr th:only-of-type {\n",
       "        vertical-align: middle;\n",
       "    }\n",
       "\n",
       "    .dataframe tbody tr th {\n",
       "        vertical-align: top;\n",
       "    }\n",
       "\n",
       "    .dataframe thead th {\n",
       "        text-align: right;\n",
       "    }\n",
       "</style>\n",
       "<table border=\"1\" class=\"dataframe\">\n",
       "  <thead>\n",
       "    <tr style=\"text-align: right;\">\n",
       "      <th></th>\n",
       "      <th>text</th>\n",
       "    </tr>\n",
       "  </thead>\n",
       "  <tbody>\n",
       "    <tr>\n",
       "      <th>0</th>\n",
       "      <td>What though I was the victim of\\r\\r\\r\\r\\r\\n   ...</td>\n",
       "    </tr>\n",
       "    <tr>\n",
       "      <th>1</th>\n",
       "      <td>Was ever such a cock-and-bull story in this li...</td>\n",
       "    </tr>\n",
       "    <tr>\n",
       "      <th>2</th>\n",
       "      <td>Does Alice appear to be present when she is\\r\\...</td>\n",
       "    </tr>\n",
       "    <tr>\n",
       "      <th>3</th>\n",
       "      <td>She inspired the men she knew\\r\\r\\r\\r\\r\\n     ...</td>\n",
       "    </tr>\n",
       "    <tr>\n",
       "      <th>4</th>\n",
       "      <td>Instead of\\r\\r\\r\\r\\r\\ngetting hold of man's fr...</td>\n",
       "    </tr>\n",
       "  </tbody>\n",
       "</table>\n",
       "</div>"
      ],
      "text/plain": [
       "                                                text\n",
       "0  What though I was the victim of\\r\\r\\r\\r\\r\\n   ...\n",
       "1  Was ever such a cock-and-bull story in this li...\n",
       "2  Does Alice appear to be present when she is\\r\\...\n",
       "3  She inspired the men she knew\\r\\r\\r\\r\\r\\n     ...\n",
       "4  Instead of\\r\\r\\r\\r\\r\\ngetting hold of man's fr..."
      ]
     },
     "execution_count": 13,
     "metadata": {},
     "output_type": "execute_result"
    }
   ],
   "source": [
    "df_test.head()"
   ]
  },
  {
   "cell_type": "code",
   "execution_count": 14,
   "metadata": {
    "scrolled": true
   },
   "outputs": [
    {
     "name": "stdout",
     "output_type": "stream",
     "text": [
      "No. of sample texts in the test set:  6326\n"
     ]
    }
   ],
   "source": [
    "print('No. of sample texts in the test set: ', len(df_test))"
   ]
  },
  {
   "cell_type": "code",
   "execution_count": 15,
   "metadata": {},
   "outputs": [
    {
     "data": {
      "text/plain": [
       "'\"They have been pronounced by an\\n\\n\\n\\n\\nexpert to be of a rare variety and of considerable value., You can see\\n\\n\\n\\n\\nfor yourselves that they are very handsome.\"\"  She opened a flat box as\\n\\n\\n\\n\\nshe spoke, and showed me six of the finest pearls that I had ever seen.\\n\\n\\n\\n\\n\\n\\n\\n\\n\\n\\n\\n\\n\\n\\n\\n\\n\\n\\n\\n\"\"Your statement is most interesting,\"\" said Sherlock Holmes.  \"\"Has\\n\\n\\n\\n\\nanything else occurred to you?\"\"\\n\\n\\n\\n\\n\\n\\n\\n\\n\\n\\n\\n\\n\\n\\n\\n\\n\\n\\n\\n\"\"Yes, and no later than to-day., That is why I have come to you., This\\n\\n\\n\\n\\nmorning I received this letter, which you will perhaps read for\\n\\n\\n\\n\\nyourself.\"\"\\n\\n\\n\\n\\n\\n\\n\\n\\n\\n\\n\\n\\n\\n\\n\\n\\n\\n\\n\\n\"\"Thank you,\"\" said Holmes.  \"\"The envelope too, please., Postmark,\\n\\n\\n\\n\\nLondon, S.W., Date, July 7., Hum!  Man\\'s thumb-mark on\\n\\n\\n\\n\\ncorner,—probably postman., Best quality paper., Envelopes at sixpence\\n\\n\\n\\n\\na packet., Particular man in his stationery.'"
      ]
     },
     "execution_count": 15,
     "metadata": {},
     "output_type": "execute_result"
    }
   ],
   "source": [
    "df['text'].iloc[0]"
   ]
  },
  {
   "cell_type": "code",
   "execution_count": 16,
   "metadata": {},
   "outputs": [
    {
     "data": {
      "text/plain": [
       "',,\\n\"But why do you ask?, Have\\n\\n\\n\\n\\n            you stolen something?â\\x80\\x9d\\n\\n\\n\\n\\n\\n\\n\\n\\n\\n            â\\x80\\x9cI have,â\\x80\\x9d said Mitya, winking slyly.\\n\\n\\n\\n\\n\\n\\n\\n\\n\\n            â\\x80\\x9cWhat have you stolen?â\\x80\\x9d inquired Pyotr Ilyitch\\n\\n\\n\\n\\n            curiously.\\n\\n\\n\\n\\n\\n\\n\\n\\n\\n            â\\x80\\x9cI stole twenty copecks from my mother when I was\\n\\n\\n\\n\\n            nine years old, and gave it back three days after.â\\x80\\x9d\\n\\n\\n\\n\\n\\n\\n\\n\\n\\n            As he said\\n\\n\\n\\n\\n            this, Mitya suddenly got up.\\n\\n\\n\\n\\n\\n\\n\\n\\n\\n            â\\x80\\x9cDmitri Fyodorovitch, won\\'t you come now?â\\x80\\x9d\\n\\n\\n\\n\\n            called Andrey from the door of the shop.\\n\\n\\n\\n\\n\\n\\n\\n\\n\\n            â\\x80\\x9cAre you ready?, We\\'ll come!â\\x80\\x9d Mitya started.\\n\\n\\n\\n\\n            â\\x80\\x9cA few more last words andâ\\x80\\x94Andrey, a\\n\\n\\n\\n\\n            glass of vodka at starting., Give him some brandy as well! That\\n\\n\\n\\n\\n            boxâ\\x80\\x9d (the one with the pistols) â\\x80\\x9cput under my seat., Good-by, Pyotr Ilyitch, don\\'t\\n\\n\\n\\n\\n            remember evil against me.â\\x80\\x9d\\n\\n\\n\\n\\n\\n\\n\\n\\n\\n            â\\x80\\x9cBut you\\'re coming back to-morrow?â\\x80\\x9d\\n\\n\\n\\n\\n\\n\\n\\n\\n\\n            â\\x80\\x9cOf course.â\\x80\\x9d\\n\\n\\n\\n\\n\\n\\n\\n\\n\\n            â\\x80\\x9cWill you settle the little bill now?â\\x80\\x9d cried\\n\\n\\n\\n\\n            the clerk, springing forward.\\n\\n\\n\\n\\n\\n\\n\\n\\n\\n            â\\x80\\x9cOh, yes, the bill., Of course.â\\x80\\x9d\\n\\n\\n\\n\\n\\n\\n\\n\\n\\n            He pulled the\\n\\n\\n\\n\\n            bundle of notes out of his pocket again, picked out three hundred\\n\\n\\n\\n\\n            roubles, threw them on the counter, and ran hurriedly\\n\\n\\n\\n\\n            [pg 457] out of the shop.\\n\\n\\n\\n\\n            Every one followed him out, bowing and wishing him good luck.\\n\\n\\n\\n\\n            Andrey, coughing from the brandy he had just swallowed, jumped up\\n\\n\\n\\n\\n            on the box., But Mitya was only just taking his seat when suddenly\\n\\n\\n\\n\\n            to his surprise he saw Fenya before him., She ran up panting,\\n\\n\\n\\n\\n            clasped her hands before him with a cry, and plumped down at his\\n\\n\\n\\n\\n            feet.\\n\\n\\n\\n\\n\\n\\n\\n\\n\\n            â\\x80\\x9cDmitri Fyodorovitch, dear good Dmitri Fyodorovitch,\\n\\n\\n\\n\\n            don\\'t harm my mistress., And it was I told you all about it....\\n\\n\\n\\n\\n            And don\\'t murder him, he came first, he\\'s hers! He\\'ll marry\\n\\n\\n\\n\\n            Agrafena Alexandrovna now., That\\'s why he\\'s come back from\\n\\n\\n\\n\\n            Siberia.'"
      ]
     },
     "execution_count": 16,
     "metadata": {},
     "output_type": "execute_result"
    }
   ],
   "source": [
    "df['text'].iloc[6]"
   ]
  },
  {
   "cell_type": "markdown",
   "metadata": {},
   "source": [
    "### Data Clearning & Lemmatization"
   ]
  },
  {
   "cell_type": "code",
   "execution_count": 17,
   "metadata": {
    "scrolled": true
   },
   "outputs": [],
   "source": [
    "from nltk.stem.wordnet import WordNetLemmatizer\n",
    "lemma = WordNetLemmatizer()"
   ]
  },
  {
   "cell_type": "code",
   "execution_count": 18,
   "metadata": {},
   "outputs": [],
   "source": [
    "negations_dic1 = {\"isn't\":\"is not\", \"aren't\":\"are not\", \"wasn't\":\"was not\", \"weren't\":\"were not\", \"haven't\":\"have not\",\n",
    "                 \"hasn't\":\"has not\",\"hadn't\":\"had not\",\"won't\":\"will not\", \"wouldn't\":\"would not\", \"don't\":\"do not\", \n",
    "                 \"doesn't\":\"does not\",\"didn't\":\"did not\", \"can't\":\"can not\",\"couldn't\":\"could not\",\"shouldn't\":\"should not\",\n",
    "                 \"mightn't\":\"might not\", \"mustn't\":\"must not\"}\n",
    "neg_pattern1 = re.compile(r'\\b(' + '|'.join(negations_dic1.keys()) + r')\\b')"
   ]
  },
  {
   "cell_type": "code",
   "execution_count": 19,
   "metadata": {},
   "outputs": [],
   "source": [
    "negations_dic2 = {'isn\"t':'is not', 'aren\"t':'are not', 'wasn\"t':'was not', 'weren\"t':'were not', 'haven\"t':'have not',\n",
    "                 'hasn\"t':'has not','hadn\"t':'had not','won\"t':'will not', 'wouldn\"t':'would not', 'don\"t':'do not', \n",
    "                 'doesn\"t':'does not','didn\"t':'did not', 'can\"t':'can not','couldn\"t':'could not','shouldn\"t':'should not',\n",
    "                 'mightn\"t':'might not', 'mustn\"t':'must not'}\n",
    "neg_pattern2 = re.compile(r'\\b(' + '|'.join(negations_dic2.keys()) + r')\\b')"
   ]
  },
  {
   "cell_type": "code",
   "execution_count": 20,
   "metadata": {},
   "outputs": [],
   "source": [
    "def lemma_text(sentence):\n",
    "    text = sentence.lower()\n",
    "    text = neg_pattern1.sub(lambda x: negations_dic1[x.group()], text)\n",
    "    text = neg_pattern2.sub(lambda x: negations_dic2[x.group()], text)\n",
    "    text = re.sub(r'\\s+', ' ', text)\n",
    "    tokens = nltk.word_tokenize(text)\n",
    "    tokens = [tok for tok in tokens if tok not in nltk_stopwords and len(tok) > 1]\n",
    "    lemma_tokens = [lemma.lemmatize(token, pos='n') for token in tokens]\n",
    "    return ' '.join(lemma_tokens)"
   ]
  },
  {
   "cell_type": "code",
   "execution_count": 21,
   "metadata": {
    "scrolled": true
   },
   "outputs": [],
   "source": [
    "df['lemma_text'] = df['text'].apply(lemma_text)"
   ]
  },
  {
   "cell_type": "code",
   "execution_count": 22,
   "metadata": {},
   "outputs": [],
   "source": [
    "df_test['lemma_text'] = df_test['text'].apply(lemma_text)"
   ]
  },
  {
   "cell_type": "code",
   "execution_count": 23,
   "metadata": {},
   "outputs": [
    {
     "data": {
      "text/plain": [
       "',,\\n\"On waking up he had asked for a cutlet, a bottle of\\n\\n\\n\\n\\nChateau d’Yquem, and some grapes, paper, and ink, and his bill., No one\\n\\n\\n\\n\\nnoticed anything special about him; he was quiet, gentle, and friendly.\\n\\n\\n\\n\\nHe must have shot himself at about midnight, though it was strange that\\n\\n\\n\\n\\nno one had heard the shot, and they only raised the alarm at midday,\\n\\n\\n\\n\\nwhen, after knocking in vain, they had broken in the door., The bottle of\\n\\n\\n\\n\\nChateau d’Yquem was half empty, there was half a plateful of grapes left\\n\\n\\n\\n\\ntoo., The shot had been fired from a little three-chambered revolver,\\n\\n\\n\\n\\nstraight into the heart., Very little blood had flowed., The revolver had\\n\\n\\n\\n\\ndropped from his hand on to the carpet., The boy himself was half lying\\n\\n\\n\\n\\nin a corner of the sofa., Death must have been instantaneous., There was\\n\\n\\n\\n\\nno trace of the anguish of death in the face; the expression was serene,\\n\\n\\n\\n\\nalmost happy, as though there were no cares in his life., All our party\\n\\n\\n\\n\\nstared at him with greedy curiosity.'"
      ]
     },
     "execution_count": 23,
     "metadata": {},
     "output_type": "execute_result"
    }
   ],
   "source": [
    "df['text'][5]"
   ]
  },
  {
   "cell_type": "code",
   "execution_count": 24,
   "metadata": {},
   "outputs": [
    {
     "data": {
      "text/plain": [
       "'`` waking asked cutlet bottle chateau yquem grape paper ink bill. one noticed anything special quiet gentle friendly must shot midnight though strange one heard shot raised alarm midday knocking vain broken door. bottle chateau yquem half empty half plateful grape left too. shot fired little three-chambered revolver straight heart. little blood flowed. revolver dropped hand carpet. boy half lying corner sofa. death must instantaneous. trace anguish death face expression serene almost happy though care life. party stared greedy curiosity'"
      ]
     },
     "execution_count": 24,
     "metadata": {},
     "output_type": "execute_result"
    }
   ],
   "source": [
    "df['lemma_text'][5]"
   ]
  },
  {
   "cell_type": "markdown",
   "metadata": {},
   "source": [
    "### Train test split"
   ]
  },
  {
   "cell_type": "code",
   "execution_count": 25,
   "metadata": {
    "scrolled": true
   },
   "outputs": [],
   "source": [
    "from sklearn.model_selection import train_test_split\n",
    "\n",
    "X_train, X_cv, y_train, y_cv = train_test_split(df['lemma_text'], df['author'], test_size=0.25, stratify=df['author'],\n",
    "                                               random_state=75)"
   ]
  },
  {
   "cell_type": "code",
   "execution_count": 26,
   "metadata": {
    "scrolled": true
   },
   "outputs": [
    {
     "name": "stdout",
     "output_type": "stream",
     "text": [
      "No. of sample texts X_train:  14232\n",
      "No. of sample texts X_cv   :  4745\n"
     ]
    }
   ],
   "source": [
    "print('No. of sample texts X_train: ', len(X_train))\n",
    "print('No. of sample texts X_cv   : ', len(X_cv))"
   ]
  },
  {
   "cell_type": "markdown",
   "metadata": {},
   "source": [
    "### TF-IDF"
   ]
  },
  {
   "cell_type": "code",
   "execution_count": 27,
   "metadata": {
    "scrolled": true
   },
   "outputs": [],
   "source": [
    "from sklearn.feature_extraction.text import TfidfVectorizer"
   ]
  },
  {
   "cell_type": "code",
   "execution_count": 28,
   "metadata": {
    "scrolled": true
   },
   "outputs": [],
   "source": [
    "tf = TfidfVectorizer(min_df=3, max_features=None, strip_accents='unicode', analyzer='word', token_pattern=r'\\w{1,}', \n",
    "                     ngram_range=(1, 3), use_idf=1, smooth_idf=1, sublinear_tf=1)\n",
    "X_train_tfidf = tf.fit_transform(X_train)\n",
    "X_cv_tfidf = tf.transform(X_cv)"
   ]
  },
  {
   "cell_type": "code",
   "execution_count": 29,
   "metadata": {
    "scrolled": true
   },
   "outputs": [
    {
     "data": {
      "text/plain": [
       "TfidfVectorizer(analyzer='word', binary=False, decode_error='strict',\n",
       "        dtype=<class 'numpy.int64'>, encoding='utf-8', input='content',\n",
       "        lowercase=True, max_df=1.0, max_features=None, min_df=3,\n",
       "        ngram_range=(1, 3), norm='l2', preprocessor=None, smooth_idf=1,\n",
       "        stop_words=None, strip_accents='unicode', sublinear_tf=1,\n",
       "        token_pattern='\\\\w{1,}', tokenizer=None, use_idf=1,\n",
       "        vocabulary=None)"
      ]
     },
     "execution_count": 29,
     "metadata": {},
     "output_type": "execute_result"
    }
   ],
   "source": [
    "tf"
   ]
  },
  {
   "cell_type": "code",
   "execution_count": 30,
   "metadata": {
    "scrolled": true
   },
   "outputs": [
    {
     "data": {
      "text/plain": [
       "(4745, 196740)"
      ]
     },
     "execution_count": 30,
     "metadata": {},
     "output_type": "execute_result"
    }
   ],
   "source": [
    "X_cv_tfidf.shape"
   ]
  },
  {
   "cell_type": "code",
   "execution_count": 31,
   "metadata": {},
   "outputs": [
    {
     "data": {
      "text/plain": [
       "<4745x196740 sparse matrix of type '<class 'numpy.float64'>'\n",
       "\twith 957373 stored elements in Compressed Sparse Row format>"
      ]
     },
     "execution_count": 31,
     "metadata": {},
     "output_type": "execute_result"
    }
   ],
   "source": [
    "X_cv_tfidf"
   ]
  },
  {
   "cell_type": "code",
   "execution_count": 32,
   "metadata": {
    "scrolled": true
   },
   "outputs": [],
   "source": [
    "from sklearn.metrics import accuracy_score, classification_report, confusion_matrix"
   ]
  },
  {
   "cell_type": "code",
   "execution_count": 33,
   "metadata": {
    "scrolled": true
   },
   "outputs": [],
   "source": [
    "from sklearn.svm import LinearSVC\n",
    "svm = LinearSVC(C=5, class_weight='balanced')\n",
    "svm.fit(X_train_tfidf, y_train)\n",
    "y_pred_class = svm.predict(X_cv_tfidf)"
   ]
  },
  {
   "cell_type": "code",
   "execution_count": 34,
   "metadata": {},
   "outputs": [
    {
     "name": "stdout",
     "output_type": "stream",
     "text": [
      "LinearSVC accuracy: 0.9875658587987355\n"
     ]
    }
   ],
   "source": [
    "print('LinearSVC accuracy:', accuracy_score(y_cv, y_pred_class))"
   ]
  },
  {
   "cell_type": "code",
   "execution_count": 35,
   "metadata": {},
   "outputs": [
    {
     "name": "stdout",
     "output_type": "stream",
     "text": [
      "LinearSVC Confusion-Matrix:\n",
      " [[962   0   0   0   2   1   0   0   0   0]\n",
      " [  0 148   0   0   0   2   3   1   0   1]\n",
      " [  1   0 649   0   1   3   0   0   1   0]\n",
      " [  0   0   0 329   0   0   0   0   0   0]\n",
      " [ 11   0   1   0 781   1   1   0   0   1]\n",
      " [  1   0   3   0   0 875   0   0   0   0]\n",
      " [  0   0   0   0   0   0 189   0   0   0]\n",
      " [  5   0   2   0   2   5   0 250   0   0]\n",
      " [  0   0   1   0   0   3   0   0 222   1]\n",
      " [  1   0   1   0   0   3   0   0   0 281]]\n"
     ]
    }
   ],
   "source": [
    "print('LinearSVC Confusion-Matrix:\\n', confusion_matrix(y_cv, y_pred_class))"
   ]
  },
  {
   "cell_type": "code",
   "execution_count": 36,
   "metadata": {},
   "outputs": [
    {
     "name": "stdout",
     "output_type": "stream",
     "text": [
      "LinearSVC Classification Report:\n",
      "              precision    recall  f1-score   support\n",
      "\n",
      "          0       0.98      1.00      0.99       965\n",
      "          1       1.00      0.95      0.98       155\n",
      "          2       0.99      0.99      0.99       655\n",
      "          3       1.00      1.00      1.00       329\n",
      "          4       0.99      0.98      0.99       796\n",
      "          5       0.98      1.00      0.99       879\n",
      "          6       0.98      1.00      0.99       189\n",
      "          7       1.00      0.95      0.97       264\n",
      "          8       1.00      0.98      0.99       227\n",
      "          9       0.99      0.98      0.99       286\n",
      "\n",
      "avg / total       0.99      0.99      0.99      4745\n",
      "\n"
     ]
    }
   ],
   "source": [
    "print('LinearSVC Classification Report:\\n', classification_report(y_cv, y_pred_class))"
   ]
  },
  {
   "cell_type": "markdown",
   "metadata": {},
   "source": [
    "#### Now, predict using test set"
   ]
  },
  {
   "cell_type": "code",
   "execution_count": 37,
   "metadata": {
    "scrolled": true
   },
   "outputs": [],
   "source": [
    "tf = TfidfVectorizer(min_df=3, max_features=None, strip_accents='unicode', analyzer='word', token_pattern=r'\\w{1,}', \n",
    "                     ngram_range=(1, 3), use_idf=1, smooth_idf=1, sublinear_tf=1)\n",
    "\n",
    "X_train_tfidf = tf.fit_transform(df['lemma_text'])\n",
    "X_test_tfidf = tf.transform(df_test['lemma_text'])\n",
    "\n",
    "y_train = df['author']"
   ]
  },
  {
   "cell_type": "code",
   "execution_count": 38,
   "metadata": {
    "scrolled": true
   },
   "outputs": [
    {
     "data": {
      "text/plain": [
       "(18977, 271430)"
      ]
     },
     "execution_count": 38,
     "metadata": {},
     "output_type": "execute_result"
    }
   ],
   "source": [
    "X_train_tfidf.shape"
   ]
  },
  {
   "cell_type": "code",
   "execution_count": 39,
   "metadata": {
    "scrolled": true
   },
   "outputs": [
    {
     "data": {
      "text/plain": [
       "(18977,)"
      ]
     },
     "execution_count": 39,
     "metadata": {},
     "output_type": "execute_result"
    }
   ],
   "source": [
    "y_train.shape"
   ]
  },
  {
   "cell_type": "code",
   "execution_count": 40,
   "metadata": {
    "scrolled": true
   },
   "outputs": [
    {
     "data": {
      "text/plain": [
       "(6326, 271430)"
      ]
     },
     "execution_count": 40,
     "metadata": {},
     "output_type": "execute_result"
    }
   ],
   "source": [
    "X_test_tfidf.shape"
   ]
  },
  {
   "cell_type": "code",
   "execution_count": 41,
   "metadata": {
    "scrolled": true
   },
   "outputs": [],
   "source": [
    "from sklearn.svm import LinearSVC\n",
    "svm = LinearSVC(C=5, class_weight='balanced')\n",
    "svm.fit(X_train_tfidf, y_train)\n",
    "y_pred_class = svm.predict(X_test_tfidf)"
   ]
  },
  {
   "cell_type": "code",
   "execution_count": 42,
   "metadata": {
    "scrolled": true
   },
   "outputs": [],
   "source": [
    "submission = y_pred_class.reshape(len(y_pred_class),1).astype(int)"
   ]
  },
  {
   "cell_type": "code",
   "execution_count": 43,
   "metadata": {
    "scrolled": true
   },
   "outputs": [],
   "source": [
    "df_sub = pd.DataFrame(data=submission, columns=['author'])"
   ]
  },
  {
   "cell_type": "code",
   "execution_count": 44,
   "metadata": {
    "scrolled": true
   },
   "outputs": [],
   "source": [
    "writer = pd.ExcelWriter('output.xlsx', engine='xlsxwriter')\n",
    "df_sub.to_excel(writer,sheet_name='Sheet1', index=False)\n",
    "writer.save()"
   ]
  }
 ],
 "metadata": {
  "kernelspec": {
   "display_name": "Python 3",
   "language": "python",
   "name": "python3"
  },
  "language_info": {
   "codemirror_mode": {
    "name": "ipython",
    "version": 3
   },
   "file_extension": ".py",
   "mimetype": "text/x-python",
   "name": "python",
   "nbconvert_exporter": "python",
   "pygments_lexer": "ipython3",
   "version": "3.6.5"
  },
  "toc": {
   "base_numbering": 1,
   "nav_menu": {},
   "number_sections": false,
   "sideBar": true,
   "skip_h1_title": false,
   "title_cell": "Table of Contents",
   "title_sidebar": "Contents",
   "toc_cell": false,
   "toc_position": {},
   "toc_section_display": true,
   "toc_window_display": false
  }
 },
 "nbformat": 4,
 "nbformat_minor": 2
}
